{
  "nbformat": 4,
  "nbformat_minor": 0,
  "metadata": {
    "colab": {
      "name": "Copy of GPU Profiling.ipynb",
      "provenance": [],
      "private_outputs": true,
      "collapsed_sections": [],
      "include_colab_link": true
    },
    "kernelspec": {
      "name": "python3",
      "display_name": "Python 3"
    },
    "accelerator": "GPU"
  },
  "cells": [
    {
      "cell_type": "markdown",
      "metadata": {
        "id": "view-in-github",
        "colab_type": "text"
      },
      "source": [
        "<a href=\"https://colab.research.google.com/github/Gurinderjeet/firstproject/blob/master/Copy_of_GPU_Profiling.ipynb\" target=\"_parent\"><img src=\"https://colab.research.google.com/assets/colab-badge.svg\" alt=\"Open In Colab\"/></a>"
      ]
    },
    {
      "cell_type": "markdown",
      "metadata": {
        "id": "zX-jwxXDvigM",
        "colab_type": "text"
      },
      "source": [
        "## Setup and verify PyTorch 1.0 and FastAI 1.0 installed on Colab. Make sure running with GPU."
      ]
    },
    {
      "cell_type": "markdown",
      "metadata": {
        "id": "wTPqOLgK2HJ-",
        "colab_type": "text"
      },
      "source": [
        ""
      ]
    },
    {
      "cell_type": "code",
      "metadata": {
        "id": "y03kIVfEvlAJ",
        "colab_type": "code",
        "colab": {}
      },
      "source": [
        "#!pip install fastai==1.0.46 --force-reinstall\n",
        "!pip install fastai -U"
      ],
      "execution_count": null,
      "outputs": []
    },
    {
      "cell_type": "code",
      "metadata": {
        "id": "rvfzpx6Cp2oy",
        "colab_type": "code",
        "colab": {}
      },
      "source": [
        "#!pip list"
      ],
      "execution_count": null,
      "outputs": []
    },
    {
      "cell_type": "code",
      "metadata": {
        "id": "VV3Qs8cBqcug",
        "colab_type": "code",
        "colab": {}
      },
      "source": [
        "import torch\n",
        "import fastai\n",
        "\n",
        "from fastai import *\n",
        "from fastai.vision import *\n",
        "\n",
        "print(torch.__version__)\n",
        "print(fastai.__version__)\n",
        "\n",
        "print(torch.cuda.is_available())\n",
        "print(torch.backends.cudnn.enabled)"
      ],
      "execution_count": null,
      "outputs": []
    },
    {
      "cell_type": "markdown",
      "metadata": {
        "id": "0B4O7XMJ2yr5",
        "colab_type": "text"
      },
      "source": [
        "Alright. Now we have a fastai version that should work. Let's get the data and look at some dogs and cats."
      ]
    },
    {
      "cell_type": "code",
      "metadata": {
        "id": "sDOyNdk80CL7",
        "colab_type": "code",
        "colab": {}
      },
      "source": [
        "path = untar_data(URLs.DOGS)\n",
        "path"
      ],
      "execution_count": null,
      "outputs": []
    },
    {
      "cell_type": "code",
      "metadata": {
        "id": "k41ybmu90GPr",
        "colab_type": "code",
        "colab": {}
      },
      "source": [
        "data = ImageDataBunch.from_folder(path, bs=256, ds_tfms=get_transforms(), size=224).normalize(imagenet_stats)\n",
        "data.show_batch(rows=3)"
      ],
      "execution_count": null,
      "outputs": []
    },
    {
      "cell_type": "code",
      "metadata": {
        "id": "qAZPnfKq0K-i",
        "colab_type": "code",
        "colab": {}
      },
      "source": [
        "learner = create_cnn(data, models.resnet34, metrics=accuracy)"
      ],
      "execution_count": null,
      "outputs": []
    },
    {
      "cell_type": "code",
      "metadata": {
        "id": "ybdvlXglE6bw",
        "colab_type": "code",
        "colab": {}
      },
      "source": [
        "learner.fit_one_cycle(1)"
      ],
      "execution_count": null,
      "outputs": []
    },
    {
      "cell_type": "code",
      "metadata": {
        "id": "qwtHbpiYgyVG",
        "colab_type": "code",
        "colab": {}
      },
      "source": [
        "learner.unfreeze()\n",
        "learner.fit_one_cycle(1, slice(1e-5,3e-4), pct_start=0.05)"
      ],
      "execution_count": null,
      "outputs": []
    },
    {
      "cell_type": "code",
      "metadata": {
        "id": "VMbsffgNg7nx",
        "colab_type": "code",
        "colab": {}
      },
      "source": [
        "accuracy(*learner.TTA())"
      ],
      "execution_count": null,
      "outputs": []
    },
    {
      "cell_type": "code",
      "metadata": {
        "id": "osay2Kh9c9ob",
        "colab_type": "code",
        "colab": {}
      },
      "source": [
        "learner.interpret()"
      ],
      "execution_count": null,
      "outputs": []
    },
    {
      "cell_type": "code",
      "metadata": {
        "id": "SjYiAez_FA1q",
        "colab_type": "code",
        "colab": {}
      },
      "source": [
        "learner.show_results()"
      ],
      "execution_count": null,
      "outputs": []
    },
    {
      "cell_type": "code",
      "metadata": {
        "id": "TVHcRNK4o_R0",
        "colab_type": "code",
        "colab": {}
      },
      "source": [
        "data.show_batch()"
      ],
      "execution_count": null,
      "outputs": []
    },
    {
      "cell_type": "code",
      "metadata": {
        "id": "lY4ByfOgrNrR",
        "colab_type": "code",
        "colab": {}
      },
      "source": [
        "preds,y,losses = learner.get_preds(with_loss=True)\n",
        "interp = ClassificationInterpretation(learner, preds, y, losses)"
      ],
      "execution_count": null,
      "outputs": []
    },
    {
      "cell_type": "code",
      "metadata": {
        "id": "WdDvRPFdri0E",
        "colab_type": "code",
        "colab": {}
      },
      "source": [
        "interp.plot_top_losses(9, figsize=(7,7))"
      ],
      "execution_count": null,
      "outputs": []
    },
    {
      "cell_type": "code",
      "metadata": {
        "id": "i9e5GDgVrzDK",
        "colab_type": "code",
        "colab": {}
      },
      "source": [
        "interp.plot_confusion_matrix()"
      ],
      "execution_count": null,
      "outputs": []
    },
    {
      "cell_type": "code",
      "metadata": {
        "id": "-CBHGMiTr30S",
        "colab_type": "code",
        "colab": {}
      },
      "source": [
        "interp.most_confused()"
      ],
      "execution_count": null,
      "outputs": []
    },
    {
      "cell_type": "code",
      "metadata": {
        "id": "yZ_XNO3yFzPh",
        "colab_type": "code",
        "colab": {}
      },
      "source": [
        "data.classes"
      ],
      "execution_count": null,
      "outputs": []
    },
    {
      "cell_type": "code",
      "metadata": {
        "id": "B4JEkcPfF4Uo",
        "colab_type": "code",
        "colab": {}
      },
      "source": [
        "len(data.train_ds)"
      ],
      "execution_count": null,
      "outputs": []
    },
    {
      "cell_type": "code",
      "metadata": {
        "id": "CAlowYAQF8vu",
        "colab_type": "code",
        "colab": {}
      },
      "source": [
        "len(data.valid_ds)"
      ],
      "execution_count": null,
      "outputs": []
    },
    {
      "cell_type": "code",
      "metadata": {
        "id": "iMvg5HLyIa5h",
        "colab_type": "code",
        "colab": {}
      },
      "source": [
        "!cat /proc/cpuinfo"
      ],
      "execution_count": null,
      "outputs": []
    }
  ]
}